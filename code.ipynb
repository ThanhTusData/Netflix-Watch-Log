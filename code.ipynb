{
 "cells": [
  {
   "cell_type": "markdown",
   "id": "0e2af8f2-763e-4fd6-8f18-ac1074a7b8f4",
   "metadata": {},
   "source": [
    "Clean Data"
   ]
  },
  {
   "cell_type": "code",
   "execution_count": 3,
   "id": "c1c285ad-ba2b-4903-98bc-dbbcbe49248d",
   "metadata": {},
   "outputs": [],
   "source": [
    "import pandas as pd\n",
    "profiles = pd.read_csv('All_Profiles.csv')\n",
    "devices = pd.read_csv('All_Devices.csv')\n",
    "search_history = pd.read_csv('All_SearchHistory.csv')\n",
    "clickstream = pd.read_csv('All_Clickstream.csv')\n",
    "viewing_activity = pd.read_csv('All_ViewingActivity.csv')"
   ]
  },
  {
   "cell_type": "markdown",
   "id": "5c671e5e-483f-4452-8f35-8c2fa3866e2a",
   "metadata": {},
   "source": [
    "PROFILES"
   ]
  },
  {
   "cell_type": "code",
   "execution_count": 5,
   "id": "d1f3f9a5-744b-4e61-9c13-5f14e1ec0745",
   "metadata": {},
   "outputs": [
    {
     "data": {
      "text/plain": [
       "(9, 8)"
      ]
     },
     "execution_count": 5,
     "metadata": {},
     "output_type": "execute_result"
    }
   ],
   "source": [
    "profiles.shape"
   ]
  },
  {
   "cell_type": "code",
   "execution_count": 6,
   "id": "d0efdcb1-9d34-46bf-890a-caf77545850a",
   "metadata": {},
   "outputs": [
    {
     "name": "stdout",
     "output_type": "stream",
     "text": [
      "<class 'pandas.core.frame.DataFrame'>\n",
      "RangeIndex: 9 entries, 0 to 8\n",
      "Data columns (total 8 columns):\n",
      " #   Column                 Non-Null Count  Dtype \n",
      "---  ------                 --------------  ----- \n",
      " 0   Profile Name           9 non-null      object\n",
      " 1   Profile Creation Time  9 non-null      object\n",
      " 2   Maturity Level         9 non-null      object\n",
      " 3   Primary Lang           9 non-null      object\n",
      " 4   Has Auto Playback      9 non-null      object\n",
      " 5   Max Stream Quality     9 non-null      object\n",
      " 6   Profile Lock Enabled   9 non-null      bool  \n",
      " 7   Profile Transferred    9 non-null      bool  \n",
      "dtypes: bool(2), object(6)\n",
      "memory usage: 582.0+ bytes\n"
     ]
    }
   ],
   "source": [
    "profiles.info()"
   ]
  },
  {
   "cell_type": "code",
   "execution_count": 7,
   "id": "c321f27e-15c1-46bd-b0a5-40c4a8e80c18",
   "metadata": {},
   "outputs": [
    {
     "data": {
      "text/plain": [
       "Index(['Profile Name', 'Profile Creation Time', 'Maturity Level',\n",
       "       'Primary Lang', 'Has Auto Playback', 'Max Stream Quality',\n",
       "       'Profile Lock Enabled', 'Profile Transferred'],\n",
       "      dtype='object')"
      ]
     },
     "execution_count": 7,
     "metadata": {},
     "output_type": "execute_result"
    }
   ],
   "source": [
    "profiles.columns"
   ]
  },
  {
   "cell_type": "code",
   "execution_count": 38,
   "id": "2fe8d58d-ce5b-43d5-bbe1-e60c55a55fc8",
   "metadata": {},
   "outputs": [],
   "source": [
    "# profiles = profiles.drop(['Game Handle',\n",
    "#                           'Profile Transfer Time',\n",
    "#                           'Profile Transferred From Account',\n",
    "#                           'Profile Transferred To Account',\n",
    "#                           'Date Of Birth',\n",
    "#                           'Gender',\n",
    "#                           'Opt-Out',\n",
    "#                           'Privacy And Data Settings'], axis=1)"
   ]
  },
  {
   "cell_type": "code",
   "execution_count": 40,
   "id": "19e10dc7-b735-4ed0-9518-7a83c257b0ee",
   "metadata": {},
   "outputs": [],
   "source": [
    "profiles['Has Auto Playback'] = profiles['Has Auto Playback'].fillna(0.0)"
   ]
  },
  {
   "cell_type": "code",
   "execution_count": 42,
   "id": "0850c601-5086-4a03-9fc4-65680d060b77",
   "metadata": {},
   "outputs": [],
   "source": [
    "profiles['Has Auto Playback'] = profiles['Has Auto Playback'].replace({1.0: 'Yes', 0.0: 'No'})"
   ]
  },
  {
   "cell_type": "code",
   "execution_count": 44,
   "id": "7a3ffc30-646b-41d8-b538-69853a5db084",
   "metadata": {},
   "outputs": [
    {
     "data": {
      "text/html": [
       "<div>\n",
       "<style scoped>\n",
       "    .dataframe tbody tr th:only-of-type {\n",
       "        vertical-align: middle;\n",
       "    }\n",
       "\n",
       "    .dataframe tbody tr th {\n",
       "        vertical-align: top;\n",
       "    }\n",
       "\n",
       "    .dataframe thead th {\n",
       "        text-align: right;\n",
       "    }\n",
       "</style>\n",
       "<table border=\"1\" class=\"dataframe\">\n",
       "  <thead>\n",
       "    <tr style=\"text-align: right;\">\n",
       "      <th></th>\n",
       "      <th>Profile Name</th>\n",
       "      <th>Profile Creation Time</th>\n",
       "      <th>Maturity Level</th>\n",
       "      <th>Primary Lang</th>\n",
       "      <th>Has Auto Playback</th>\n",
       "      <th>Max Stream Quality</th>\n",
       "      <th>Profile Lock Enabled</th>\n",
       "      <th>Profile Transferred</th>\n",
       "    </tr>\n",
       "  </thead>\n",
       "  <tbody>\n",
       "    <tr>\n",
       "      <th>0</th>\n",
       "      <td>User 0</td>\n",
       "      <td>29-10-2021 05:42</td>\n",
       "      <td>ADULTS</td>\n",
       "      <td>en-IN</td>\n",
       "      <td>Yes</td>\n",
       "      <td>Unknown</td>\n",
       "      <td>False</td>\n",
       "      <td>False</td>\n",
       "    </tr>\n",
       "    <tr>\n",
       "      <th>1</th>\n",
       "      <td>User 1</td>\n",
       "      <td>29-10-2021 05:42</td>\n",
       "      <td>ADULTS</td>\n",
       "      <td>en-IN</td>\n",
       "      <td>Yes</td>\n",
       "      <td>Unknown</td>\n",
       "      <td>False</td>\n",
       "      <td>False</td>\n",
       "    </tr>\n",
       "    <tr>\n",
       "      <th>2</th>\n",
       "      <td>User 2</td>\n",
       "      <td>29-10-2021 05:42</td>\n",
       "      <td>ADULTS</td>\n",
       "      <td>en-IN</td>\n",
       "      <td>Yes</td>\n",
       "      <td>Unknown</td>\n",
       "      <td>False</td>\n",
       "      <td>False</td>\n",
       "    </tr>\n",
       "    <tr>\n",
       "      <th>3</th>\n",
       "      <td>User 3</td>\n",
       "      <td>29-10-2021 05:42</td>\n",
       "      <td>ADULTS</td>\n",
       "      <td>en-IN</td>\n",
       "      <td>Yes</td>\n",
       "      <td>Unknown</td>\n",
       "      <td>False</td>\n",
       "      <td>False</td>\n",
       "    </tr>\n",
       "    <tr>\n",
       "      <th>4</th>\n",
       "      <td>User 4</td>\n",
       "      <td>29-10-2021 05:19</td>\n",
       "      <td>ADULTS</td>\n",
       "      <td>en-IN</td>\n",
       "      <td>No</td>\n",
       "      <td>Unknown</td>\n",
       "      <td>False</td>\n",
       "      <td>False</td>\n",
       "    </tr>\n",
       "    <tr>\n",
       "      <th>5</th>\n",
       "      <td>User 5</td>\n",
       "      <td>07-01-2023 14:07</td>\n",
       "      <td>ADULTS</td>\n",
       "      <td>en-IN</td>\n",
       "      <td>Yes</td>\n",
       "      <td>Unknown</td>\n",
       "      <td>False</td>\n",
       "      <td>False</td>\n",
       "    </tr>\n",
       "    <tr>\n",
       "      <th>6</th>\n",
       "      <td>User 6</td>\n",
       "      <td>13-06-2022 18:09</td>\n",
       "      <td>ADULTS</td>\n",
       "      <td>en-IN</td>\n",
       "      <td>Yes</td>\n",
       "      <td>Unknown</td>\n",
       "      <td>False</td>\n",
       "      <td>False</td>\n",
       "    </tr>\n",
       "    <tr>\n",
       "      <th>7</th>\n",
       "      <td>User 7</td>\n",
       "      <td>05-06-2022 16:43</td>\n",
       "      <td>ADULTS</td>\n",
       "      <td>en-IN</td>\n",
       "      <td>Yes</td>\n",
       "      <td>Unknown</td>\n",
       "      <td>False</td>\n",
       "      <td>False</td>\n",
       "    </tr>\n",
       "    <tr>\n",
       "      <th>8</th>\n",
       "      <td>User 8</td>\n",
       "      <td>01-06-2022 13:24</td>\n",
       "      <td>ADULTS</td>\n",
       "      <td>en-IN</td>\n",
       "      <td>No</td>\n",
       "      <td>Unknown</td>\n",
       "      <td>False</td>\n",
       "      <td>False</td>\n",
       "    </tr>\n",
       "  </tbody>\n",
       "</table>\n",
       "</div>"
      ],
      "text/plain": [
       "  Profile Name Profile Creation Time Maturity Level Primary Lang  \\\n",
       "0       User 0      29-10-2021 05:42         ADULTS        en-IN   \n",
       "1       User 1      29-10-2021 05:42         ADULTS        en-IN   \n",
       "2       User 2      29-10-2021 05:42         ADULTS        en-IN   \n",
       "3       User 3      29-10-2021 05:42         ADULTS        en-IN   \n",
       "4       User 4      29-10-2021 05:19         ADULTS        en-IN   \n",
       "5       User 5      07-01-2023 14:07         ADULTS        en-IN   \n",
       "6       User 6      13-06-2022 18:09         ADULTS        en-IN   \n",
       "7       User 7      05-06-2022 16:43         ADULTS        en-IN   \n",
       "8       User 8      01-06-2022 13:24         ADULTS        en-IN   \n",
       "\n",
       "  Has Auto Playback Max Stream Quality  Profile Lock Enabled  \\\n",
       "0               Yes            Unknown                 False   \n",
       "1               Yes            Unknown                 False   \n",
       "2               Yes            Unknown                 False   \n",
       "3               Yes            Unknown                 False   \n",
       "4                No            Unknown                 False   \n",
       "5               Yes            Unknown                 False   \n",
       "6               Yes            Unknown                 False   \n",
       "7               Yes            Unknown                 False   \n",
       "8                No            Unknown                 False   \n",
       "\n",
       "   Profile Transferred  \n",
       "0                False  \n",
       "1                False  \n",
       "2                False  \n",
       "3                False  \n",
       "4                False  \n",
       "5                False  \n",
       "6                False  \n",
       "7                False  \n",
       "8                False  "
      ]
     },
     "execution_count": 44,
     "metadata": {},
     "output_type": "execute_result"
    }
   ],
   "source": [
    "profiles"
   ]
  },
  {
   "cell_type": "code",
   "execution_count": 46,
   "id": "268e1ef7-7810-4bf6-b7b5-c5d4b7f3ede2",
   "metadata": {},
   "outputs": [],
   "source": [
    "profiles.to_csv('All_Profiles.csv', index=False)"
   ]
  },
  {
   "cell_type": "markdown",
   "id": "17de83fc-688a-4823-a081-00b655a14f9c",
   "metadata": {},
   "source": [
    "DEVICES"
   ]
  },
  {
   "cell_type": "code",
   "execution_count": 49,
   "id": "aec0d83b-9d52-4648-b5c3-e58ff5157f7b",
   "metadata": {},
   "outputs": [
    {
     "data": {
      "text/plain": [
       "(137, 12)"
      ]
     },
     "execution_count": 49,
     "metadata": {},
     "output_type": "execute_result"
    }
   ],
   "source": [
    "devices.shape"
   ]
  },
  {
   "cell_type": "code",
   "execution_count": 51,
   "id": "8601c0d5-fd04-47ae-a46a-83fada80a8b8",
   "metadata": {},
   "outputs": [
    {
     "name": "stdout",
     "output_type": "stream",
     "text": [
      "<class 'pandas.core.frame.DataFrame'>\n",
      "RangeIndex: 137 entries, 0 to 136\n",
      "Data columns (total 12 columns):\n",
      " #   Column                                                Non-Null Count  Dtype \n",
      "---  ------                                                --------------  ----- \n",
      " 0   Profile Name                                          137 non-null    object\n",
      " 1   Esn                                                   137 non-null    object\n",
      " 2   Device Type                                           137 non-null    object\n",
      " 3   Acct First Playback Date                              137 non-null    object\n",
      " 4   Acct Last Playback Date                               137 non-null    object\n",
      " 5   Acct First Playback Date For User Generated Plays     137 non-null    object\n",
      " 6   Acct Last Playback Date For User Generated Plays      137 non-null    object\n",
      " 7   Profile First Playback Date                           137 non-null    object\n",
      " 8   Profile Last Playback Date                            137 non-null    object\n",
      " 9   Profile First Playback Date For User Generated Plays  137 non-null    object\n",
      " 10  Profile Last Playback Date For User Generated Plays   137 non-null    object\n",
      " 11  Deactivation Time                                     137 non-null    object\n",
      "dtypes: object(12)\n",
      "memory usage: 13.0+ KB\n"
     ]
    }
   ],
   "source": [
    "devices.info()"
   ]
  },
  {
   "cell_type": "code",
   "execution_count": 53,
   "id": "2edc4e2a-6005-4af9-a3ad-f9b0dfb1e5d7",
   "metadata": {},
   "outputs": [
    {
     "data": {
      "text/plain": [
       "Index(['Profile Name', 'Esn', 'Device Type', 'Acct First Playback Date',\n",
       "       'Acct Last Playback Date',\n",
       "       'Acct First Playback Date For User Generated Plays',\n",
       "       'Acct Last Playback Date For User Generated Plays',\n",
       "       'Profile First Playback Date', 'Profile Last Playback Date',\n",
       "       'Profile First Playback Date For User Generated Plays',\n",
       "       'Profile Last Playback Date For User Generated Plays',\n",
       "       'Deactivation Time'],\n",
       "      dtype='object')"
      ]
     },
     "execution_count": 53,
     "metadata": {},
     "output_type": "execute_result"
    }
   ],
   "source": [
    "devices.columns"
   ]
  },
  {
   "cell_type": "code",
   "execution_count": 55,
   "id": "328cb8d7-a811-4f25-bce7-1b6f8304d809",
   "metadata": {},
   "outputs": [
    {
     "name": "stdout",
     "output_type": "stream",
     "text": [
      "       Profile Name    Esn    Device Type Acct First Playback Date  \\\n",
      "count           137    137            137                      137   \n",
      "unique            9     58             12                       43   \n",
      "top          User 8  Esn 0  Device Type 0               2022-07-29   \n",
      "freq             42      7             43                       17   \n",
      "\n",
      "       Acct Last Playback Date  \\\n",
      "count                      137   \n",
      "unique                      39   \n",
      "top                 2022-11-24   \n",
      "freq                        17   \n",
      "\n",
      "       Acct First Playback Date For User Generated Plays  \\\n",
      "count                                                137   \n",
      "unique                                                42   \n",
      "top                                           2022-07-26   \n",
      "freq                                                  23   \n",
      "\n",
      "       Acct Last Playback Date For User Generated Plays  \\\n",
      "count                                               137   \n",
      "unique                                               38   \n",
      "top                                          2022-11-26   \n",
      "freq                                                 23   \n",
      "\n",
      "       Profile First Playback Date Profile Last Playback Date  \\\n",
      "count                          137                        137   \n",
      "unique                          59                         59   \n",
      "top                     2022-09-13                 2022-12-07   \n",
      "freq                            43                         43   \n",
      "\n",
      "       Profile First Playback Date For User Generated Plays  \\\n",
      "count                                                 137     \n",
      "unique                                                 58     \n",
      "top                                            2022-09-12     \n",
      "freq                                                   45     \n",
      "\n",
      "       Profile Last Playback Date For User Generated Plays Deactivation Time  \n",
      "count                                                 137                137  \n",
      "unique                                                 58                  9  \n",
      "top                                            2022-12-06         1900-01-01  \n",
      "freq                                                   45                 83  \n"
     ]
    }
   ],
   "source": [
    "print(devices.describe(include='all'))"
   ]
  },
  {
   "cell_type": "code",
   "execution_count": 57,
   "id": "ff4f7a52-ccf6-4018-b4e4-0d1534b5d346",
   "metadata": {},
   "outputs": [],
   "source": [
    "date_columns = devices.columns.drop(['Profile Name', 'Esn', 'Device Type'])\n",
    "for column in date_columns:\n",
    "    devices[column] = pd.to_datetime(devices[column], errors='coerce').dt.date\n",
    "    "
   ]
  },
  {
   "cell_type": "code",
   "execution_count": 59,
   "id": "772505b2-5f50-4095-ada1-ce4105aea648",
   "metadata": {},
   "outputs": [],
   "source": [
    "# Chuyển đổi cột ngày tháng năm thành định dạng datetime\n",
    "for column in date_columns:\n",
    "    devices[column] = pd.to_datetime(devices[column], errors='coerce')\n",
    "\n",
    "# Hàm thay thế NaT bằng giá trị trung bình của cột\n",
    "def fill_na_with_mean_date(series):\n",
    "    valid_dates = series.dropna()\n",
    "    if valid_dates.empty:\n",
    "        return series.fillna(pd.to_datetime('1970-01-01'))\n",
    "    \n",
    "    mean_date = valid_dates.mean()\n",
    "    return series.fillna(mean_date)\n",
    "\n",
    "# Áp dụng hàm cho tất cả các cột ngày tháng năm ngoại trừ 'Deactivation Time'\n",
    "for column in date_columns[:-1]:  # Exclude 'Deactivation Time'\n",
    "    devices[column] = fill_na_with_mean_date(devices[column])\n",
    "\n",
    "# Thay thế giá trị NaT trong cột 'Deactivation Time' bằng ngày mặc định 01/01/1900\n",
    "devices['Deactivation Time'] = devices['Deactivation Time'].fillna(pd.to_datetime('1900-01-01'))\n"
   ]
  },
  {
   "cell_type": "code",
   "execution_count": 61,
   "id": "3839e26d-7137-401a-86a4-3de8b45ec4d7",
   "metadata": {},
   "outputs": [],
   "source": [
    "# Chuyển đổi các cột ngày tháng năm thành định dạng ngày-tháng-năm (không có thông tin về giây)\n",
    "for column in date_columns:\n",
    "    devices[column] = pd.to_datetime(devices[column]).dt.strftime('%Y-%m-%d')"
   ]
  },
  {
   "cell_type": "code",
   "execution_count": 63,
   "id": "d987330d-a27f-417b-97fa-dd6eb659980c",
   "metadata": {},
   "outputs": [
    {
     "data": {
      "text/plain": [
       "(137, 12)"
      ]
     },
     "execution_count": 63,
     "metadata": {},
     "output_type": "execute_result"
    }
   ],
   "source": [
    "devices.shape"
   ]
  },
  {
   "cell_type": "code",
   "execution_count": 65,
   "id": "ed290cc0-5e7d-40aa-ad57-35907e655345",
   "metadata": {},
   "outputs": [],
   "source": [
    "devices = devices.drop_duplicates()"
   ]
  },
  {
   "cell_type": "code",
   "execution_count": 67,
   "id": "a43fb65e-0a11-44a5-8686-5c9bf6673fc6",
   "metadata": {},
   "outputs": [
    {
     "data": {
      "text/plain": [
       "(137, 12)"
      ]
     },
     "execution_count": 67,
     "metadata": {},
     "output_type": "execute_result"
    }
   ],
   "source": [
    "devices.shape"
   ]
  },
  {
   "cell_type": "code",
   "execution_count": 69,
   "id": "f84ab065-3752-4863-b4f4-01c8d08e1a91",
   "metadata": {},
   "outputs": [],
   "source": [
    "devices.to_csv('All_Devices.csv', index=False)"
   ]
  },
  {
   "cell_type": "markdown",
   "id": "9c6d4fe2-54a6-47e5-96d0-055d5d8cb8bb",
   "metadata": {},
   "source": [
    "SREACH HISTORY"
   ]
  },
  {
   "cell_type": "code",
   "execution_count": 72,
   "id": "d399b27b-fa5f-40b0-8a44-b1302c31cdbe",
   "metadata": {},
   "outputs": [
    {
     "data": {
      "text/plain": [
       "(1832, 9)"
      ]
     },
     "execution_count": 72,
     "metadata": {},
     "output_type": "execute_result"
    }
   ],
   "source": [
    "search_history.shape"
   ]
  },
  {
   "cell_type": "code",
   "execution_count": 74,
   "id": "48d102bb-90a4-42ff-9cac-87e50aeee5f0",
   "metadata": {},
   "outputs": [
    {
     "data": {
      "text/plain": [
       "Index(['Profile Name', 'Country Iso Code', 'Device', 'Is Kids', 'Query Typed',\n",
       "       'Displayed Name', 'Action', 'Section', 'Utc Timestamp'],\n",
       "      dtype='object')"
      ]
     },
     "execution_count": 74,
     "metadata": {},
     "output_type": "execute_result"
    }
   ],
   "source": [
    "search_history.columns"
   ]
  },
  {
   "cell_type": "code",
   "execution_count": 76,
   "id": "0b3e372c-09ed-47be-9890-564c0c008631",
   "metadata": {},
   "outputs": [
    {
     "name": "stdout",
     "output_type": "stream",
     "text": [
      "<class 'pandas.core.frame.DataFrame'>\n",
      "RangeIndex: 1832 entries, 0 to 1831\n",
      "Data columns (total 9 columns):\n",
      " #   Column            Non-Null Count  Dtype \n",
      "---  ------            --------------  ----- \n",
      " 0   Profile Name      1832 non-null   object\n",
      " 1   Country Iso Code  1832 non-null   object\n",
      " 2   Device            1832 non-null   object\n",
      " 3   Is Kids           1832 non-null   object\n",
      " 4   Query Typed       1832 non-null   object\n",
      " 5   Displayed Name    1832 non-null   object\n",
      " 6   Action            1832 non-null   object\n",
      " 7   Section           1832 non-null   object\n",
      " 8   Utc Timestamp     1832 non-null   object\n",
      "dtypes: object(9)\n",
      "memory usage: 128.9+ KB\n"
     ]
    }
   ],
   "source": [
    "search_history.info()"
   ]
  },
  {
   "cell_type": "code",
   "execution_count": 78,
   "id": "84caddd3-5296-485f-ac2b-845424ca4af2",
   "metadata": {},
   "outputs": [
    {
     "data": {
      "text/html": [
       "<div>\n",
       "<style scoped>\n",
       "    .dataframe tbody tr th:only-of-type {\n",
       "        vertical-align: middle;\n",
       "    }\n",
       "\n",
       "    .dataframe tbody tr th {\n",
       "        vertical-align: top;\n",
       "    }\n",
       "\n",
       "    .dataframe thead th {\n",
       "        text-align: right;\n",
       "    }\n",
       "</style>\n",
       "<table border=\"1\" class=\"dataframe\">\n",
       "  <thead>\n",
       "    <tr style=\"text-align: right;\">\n",
       "      <th></th>\n",
       "      <th>Profile Name</th>\n",
       "      <th>Country Iso Code</th>\n",
       "      <th>Device</th>\n",
       "      <th>Is Kids</th>\n",
       "      <th>Query Typed</th>\n",
       "      <th>Displayed Name</th>\n",
       "      <th>Action</th>\n",
       "      <th>Section</th>\n",
       "      <th>Utc Timestamp</th>\n",
       "    </tr>\n",
       "  </thead>\n",
       "  <tbody>\n",
       "    <tr>\n",
       "      <th>count</th>\n",
       "      <td>1832</td>\n",
       "      <td>1832</td>\n",
       "      <td>1832</td>\n",
       "      <td>1832</td>\n",
       "      <td>1832</td>\n",
       "      <td>1832</td>\n",
       "      <td>1832</td>\n",
       "      <td>1832</td>\n",
       "      <td>1832</td>\n",
       "    </tr>\n",
       "    <tr>\n",
       "      <th>unique</th>\n",
       "      <td>9</td>\n",
       "      <td>5</td>\n",
       "      <td>6</td>\n",
       "      <td>1</td>\n",
       "      <td>397</td>\n",
       "      <td>813</td>\n",
       "      <td>3</td>\n",
       "      <td>3</td>\n",
       "      <td>312</td>\n",
       "    </tr>\n",
       "    <tr>\n",
       "      <th>top</th>\n",
       "      <td>User 8</td>\n",
       "      <td>IN</td>\n",
       "      <td>Device 0</td>\n",
       "      <td>No</td>\n",
       "      <td>No Query</td>\n",
       "      <td>Unknown</td>\n",
       "      <td>select</td>\n",
       "      <td>title_results</td>\n",
       "      <td>2023-03-18</td>\n",
       "    </tr>\n",
       "    <tr>\n",
       "      <th>freq</th>\n",
       "      <td>888</td>\n",
       "      <td>1433</td>\n",
       "      <td>1698</td>\n",
       "      <td>1832</td>\n",
       "      <td>465</td>\n",
       "      <td>353</td>\n",
       "      <td>1226</td>\n",
       "      <td>1348</td>\n",
       "      <td>65</td>\n",
       "    </tr>\n",
       "  </tbody>\n",
       "</table>\n",
       "</div>"
      ],
      "text/plain": [
       "       Profile Name Country Iso Code    Device Is Kids Query Typed  \\\n",
       "count          1832             1832      1832    1832        1832   \n",
       "unique            9                5         6       1         397   \n",
       "top          User 8               IN  Device 0      No    No Query   \n",
       "freq            888             1433      1698    1832         465   \n",
       "\n",
       "       Displayed Name  Action        Section Utc Timestamp  \n",
       "count            1832    1832           1832          1832  \n",
       "unique            813       3              3           312  \n",
       "top           Unknown  select  title_results    2023-03-18  \n",
       "freq              353    1226           1348            65  "
      ]
     },
     "execution_count": 78,
     "metadata": {},
     "output_type": "execute_result"
    }
   ],
   "source": [
    "search_history.describe(include='all')"
   ]
  },
  {
   "cell_type": "code",
   "execution_count": 80,
   "id": "31d66314-9a32-4dc4-a58e-12535639c792",
   "metadata": {},
   "outputs": [
    {
     "name": "stdout",
     "output_type": "stream",
     "text": [
      "9\n",
      "5\n",
      "6\n",
      "1\n",
      "397\n",
      "813\n",
      "3\n",
      "3\n",
      "312\n"
     ]
    }
   ],
   "source": [
    "for col in search_history.columns:\n",
    "    print(search_history[col].nunique())"
   ]
  },
  {
   "cell_type": "code",
   "execution_count": 82,
   "id": "35f98926-f1f1-4999-a74c-1d46bdae84fe",
   "metadata": {},
   "outputs": [
    {
     "name": "stdout",
     "output_type": "stream",
     "text": [
      "['play' 'select' 'add']\n",
      "['prequery_results' 'title_results' 'suggestion_results']\n"
     ]
    }
   ],
   "source": [
    "for col in search_history.columns[-3:-1]:\n",
    "    print(search_history[col].unique())"
   ]
  },
  {
   "cell_type": "code",
   "execution_count": 84,
   "id": "828a0170-4d49-4ac5-b7c4-f417d280c06a",
   "metadata": {},
   "outputs": [
    {
     "data": {
      "text/plain": [
       "(1832, 9)"
      ]
     },
     "execution_count": 84,
     "metadata": {},
     "output_type": "execute_result"
    }
   ],
   "source": [
    "search_history=search_history.drop_duplicates()\n",
    "search_history.shape"
   ]
  },
  {
   "cell_type": "code",
   "execution_count": 86,
   "id": "38c11ec7-c49f-4a6d-bd54-d9e661981323",
   "metadata": {},
   "outputs": [
    {
     "data": {
      "text/html": [
       "<div>\n",
       "<style scoped>\n",
       "    .dataframe tbody tr th:only-of-type {\n",
       "        vertical-align: middle;\n",
       "    }\n",
       "\n",
       "    .dataframe tbody tr th {\n",
       "        vertical-align: top;\n",
       "    }\n",
       "\n",
       "    .dataframe thead th {\n",
       "        text-align: right;\n",
       "    }\n",
       "</style>\n",
       "<table border=\"1\" class=\"dataframe\">\n",
       "  <thead>\n",
       "    <tr style=\"text-align: right;\">\n",
       "      <th></th>\n",
       "      <th>Profile Name</th>\n",
       "      <th>Country Iso Code</th>\n",
       "      <th>Device</th>\n",
       "      <th>Is Kids</th>\n",
       "      <th>Query Typed</th>\n",
       "      <th>Displayed Name</th>\n",
       "      <th>Action</th>\n",
       "      <th>Section</th>\n",
       "      <th>Utc Timestamp</th>\n",
       "    </tr>\n",
       "  </thead>\n",
       "  <tbody>\n",
       "    <tr>\n",
       "      <th>0</th>\n",
       "      <td>User 4</td>\n",
       "      <td>AE</td>\n",
       "      <td>Device 0</td>\n",
       "      <td>No</td>\n",
       "      <td>No Query</td>\n",
       "      <td>Manifest: Season 1: \"Pilot\"</td>\n",
       "      <td>play</td>\n",
       "      <td>prequery_results</td>\n",
       "      <td>2022-08-01</td>\n",
       "    </tr>\n",
       "    <tr>\n",
       "      <th>1</th>\n",
       "      <td>User 4</td>\n",
       "      <td>AE</td>\n",
       "      <td>Device 0</td>\n",
       "      <td>No</td>\n",
       "      <td>No Query</td>\n",
       "      <td>Unknown</td>\n",
       "      <td>select</td>\n",
       "      <td>prequery_results</td>\n",
       "      <td>2022-08-01</td>\n",
       "    </tr>\n",
       "    <tr>\n",
       "      <th>2</th>\n",
       "      <td>User 4</td>\n",
       "      <td>AE</td>\n",
       "      <td>Device 0</td>\n",
       "      <td>No</td>\n",
       "      <td>the gray</td>\n",
       "      <td>The Gray Man</td>\n",
       "      <td>add</td>\n",
       "      <td>title_results</td>\n",
       "      <td>2022-07-17</td>\n",
       "    </tr>\n",
       "    <tr>\n",
       "      <th>3</th>\n",
       "      <td>User 4</td>\n",
       "      <td>AE</td>\n",
       "      <td>Device 0</td>\n",
       "      <td>No</td>\n",
       "      <td>the gray</td>\n",
       "      <td>The Gray Man</td>\n",
       "      <td>select</td>\n",
       "      <td>title_results</td>\n",
       "      <td>2022-07-17</td>\n",
       "    </tr>\n",
       "    <tr>\n",
       "      <th>4</th>\n",
       "      <td>User 4</td>\n",
       "      <td>AE</td>\n",
       "      <td>Device 0</td>\n",
       "      <td>No</td>\n",
       "      <td>No Query</td>\n",
       "      <td>Stranger Things 4: \"Chapter Nine: The Piggyback\"</td>\n",
       "      <td>play</td>\n",
       "      <td>prequery_results</td>\n",
       "      <td>2022-07-01</td>\n",
       "    </tr>\n",
       "    <tr>\n",
       "      <th>...</th>\n",
       "      <td>...</td>\n",
       "      <td>...</td>\n",
       "      <td>...</td>\n",
       "      <td>...</td>\n",
       "      <td>...</td>\n",
       "      <td>...</td>\n",
       "      <td>...</td>\n",
       "      <td>...</td>\n",
       "      <td>...</td>\n",
       "    </tr>\n",
       "    <tr>\n",
       "      <th>1827</th>\n",
       "      <td>User 8</td>\n",
       "      <td>IN</td>\n",
       "      <td>Device 0</td>\n",
       "      <td>No</td>\n",
       "      <td>mut</td>\n",
       "      <td>Brightburn</td>\n",
       "      <td>select</td>\n",
       "      <td>title_results</td>\n",
       "      <td>2022-06-01</td>\n",
       "    </tr>\n",
       "    <tr>\n",
       "      <th>1828</th>\n",
       "      <td>User 8</td>\n",
       "      <td>IN</td>\n",
       "      <td>Device 0</td>\n",
       "      <td>No</td>\n",
       "      <td>mut</td>\n",
       "      <td>TAU</td>\n",
       "      <td>select</td>\n",
       "      <td>title_results</td>\n",
       "      <td>2022-06-01</td>\n",
       "    </tr>\n",
       "    <tr>\n",
       "      <th>1829</th>\n",
       "      <td>User 8</td>\n",
       "      <td>IN</td>\n",
       "      <td>Device 0</td>\n",
       "      <td>No</td>\n",
       "      <td>mut</td>\n",
       "      <td>Muthu</td>\n",
       "      <td>play</td>\n",
       "      <td>title_results</td>\n",
       "      <td>2022-06-01</td>\n",
       "    </tr>\n",
       "    <tr>\n",
       "      <th>1830</th>\n",
       "      <td>User 8</td>\n",
       "      <td>IN</td>\n",
       "      <td>Device 0</td>\n",
       "      <td>No</td>\n",
       "      <td>mut</td>\n",
       "      <td>Muthu</td>\n",
       "      <td>select</td>\n",
       "      <td>title_results</td>\n",
       "      <td>2022-06-01</td>\n",
       "    </tr>\n",
       "    <tr>\n",
       "      <th>1831</th>\n",
       "      <td>User 8</td>\n",
       "      <td>IN</td>\n",
       "      <td>Device 0</td>\n",
       "      <td>No</td>\n",
       "      <td>mut</td>\n",
       "      <td>Kannathil Muthamittal</td>\n",
       "      <td>select</td>\n",
       "      <td>title_results</td>\n",
       "      <td>2022-06-01</td>\n",
       "    </tr>\n",
       "  </tbody>\n",
       "</table>\n",
       "<p>1832 rows × 9 columns</p>\n",
       "</div>"
      ],
      "text/plain": [
       "     Profile Name Country Iso Code    Device Is Kids Query Typed  \\\n",
       "0          User 4               AE  Device 0      No    No Query   \n",
       "1          User 4               AE  Device 0      No    No Query   \n",
       "2          User 4               AE  Device 0      No    the gray   \n",
       "3          User 4               AE  Device 0      No    the gray   \n",
       "4          User 4               AE  Device 0      No    No Query   \n",
       "...           ...              ...       ...     ...         ...   \n",
       "1827       User 8               IN  Device 0      No         mut   \n",
       "1828       User 8               IN  Device 0      No         mut   \n",
       "1829       User 8               IN  Device 0      No         mut   \n",
       "1830       User 8               IN  Device 0      No         mut   \n",
       "1831       User 8               IN  Device 0      No         mut   \n",
       "\n",
       "                                        Displayed Name  Action  \\\n",
       "0                          Manifest: Season 1: \"Pilot\"    play   \n",
       "1                                              Unknown  select   \n",
       "2                                         The Gray Man     add   \n",
       "3                                         The Gray Man  select   \n",
       "4     Stranger Things 4: \"Chapter Nine: The Piggyback\"    play   \n",
       "...                                                ...     ...   \n",
       "1827                                        Brightburn  select   \n",
       "1828                                               TAU  select   \n",
       "1829                                             Muthu    play   \n",
       "1830                                             Muthu  select   \n",
       "1831                             Kannathil Muthamittal  select   \n",
       "\n",
       "               Section Utc Timestamp  \n",
       "0     prequery_results    2022-08-01  \n",
       "1     prequery_results    2022-08-01  \n",
       "2        title_results    2022-07-17  \n",
       "3        title_results    2022-07-17  \n",
       "4     prequery_results    2022-07-01  \n",
       "...                ...           ...  \n",
       "1827     title_results    2022-06-01  \n",
       "1828     title_results    2022-06-01  \n",
       "1829     title_results    2022-06-01  \n",
       "1830     title_results    2022-06-01  \n",
       "1831     title_results    2022-06-01  \n",
       "\n",
       "[1832 rows x 9 columns]"
      ]
     },
     "execution_count": 86,
     "metadata": {},
     "output_type": "execute_result"
    }
   ],
   "source": [
    "\n",
    "# Thay thế giá trị thiếu bằng một giá trị mặc định nếu cần\n",
    "search_history['Query Typed'].fillna('No Query')\n",
    "search_history['Displayed Name'].fillna('Unknown')\n",
    "\n",
    "# Chuyển đổi cột Utc Timestamp thành kiểu datetime\n",
    "search_history['Utc Timestamp'] = pd.to_datetime(search_history['Utc Timestamp'], errors='coerce').dt.date\n",
    "\n",
    "# Loại bỏ các giá trị trùng lặp nếu cần\n",
    "search_history.drop_duplicates()\n",
    "\n",
    "search_history['Is Kids']=search_history['Is Kids'].replace({0:'No', 1:'Yes'})\n",
    "search_history"
   ]
  },
  {
   "cell_type": "code",
   "execution_count": 88,
   "id": "a609f569-7474-4666-ad63-0a03d004bdab",
   "metadata": {},
   "outputs": [],
   "source": [
    "search_history.to_csv('All_SearchHistory.csv', index=False)"
   ]
  },
  {
   "cell_type": "markdown",
   "id": "d134885e-4aec-4954-8043-716f9606a553",
   "metadata": {},
   "source": [
    "CLICKSTREAM"
   ]
  },
  {
   "cell_type": "code",
   "execution_count": 91,
   "id": "d2cfd325-8e57-4ad0-ad72-69dcf14b75fa",
   "metadata": {},
   "outputs": [
    {
     "data": {
      "text/plain": [
       "(1987, 6)"
      ]
     },
     "execution_count": 91,
     "metadata": {},
     "output_type": "execute_result"
    }
   ],
   "source": [
    "clickstream.shape"
   ]
  },
  {
   "cell_type": "code",
   "execution_count": 93,
   "id": "8306a250-4603-4011-bb9d-8f0d4f3749a2",
   "metadata": {},
   "outputs": [
    {
     "data": {
      "text/plain": [
       "Index(['Profile Name', 'Source', 'Navigation Level', 'Referrer Url',\n",
       "       'Webpage Url', 'Click Utc Ts'],\n",
       "      dtype='object')"
      ]
     },
     "execution_count": 93,
     "metadata": {},
     "output_type": "execute_result"
    }
   ],
   "source": [
    "clickstream.columns"
   ]
  },
  {
   "cell_type": "code",
   "execution_count": 95,
   "id": "ff46c8aa-fd67-478a-99ff-66a29666cf38",
   "metadata": {},
   "outputs": [
    {
     "name": "stdout",
     "output_type": "stream",
     "text": [
      "<class 'pandas.core.frame.DataFrame'>\n",
      "RangeIndex: 1987 entries, 0 to 1986\n",
      "Data columns (total 6 columns):\n",
      " #   Column            Non-Null Count  Dtype \n",
      "---  ------            --------------  ----- \n",
      " 0   Profile Name      1987 non-null   object\n",
      " 1   Source            1987 non-null   object\n",
      " 2   Navigation Level  1987 non-null   object\n",
      " 3   Referrer Url      1987 non-null   object\n",
      " 4   Webpage Url       1987 non-null   object\n",
      " 5   Click Utc Ts      1987 non-null   object\n",
      "dtypes: object(6)\n",
      "memory usage: 93.3+ KB\n"
     ]
    }
   ],
   "source": [
    "clickstream.info()"
   ]
  },
  {
   "cell_type": "code",
   "execution_count": 97,
   "id": "3571139e-3d0f-4ed1-a65f-baf32f1662ad",
   "metadata": {},
   "outputs": [
    {
     "data": {
      "text/html": [
       "<div>\n",
       "<style scoped>\n",
       "    .dataframe tbody tr th:only-of-type {\n",
       "        vertical-align: middle;\n",
       "    }\n",
       "\n",
       "    .dataframe tbody tr th {\n",
       "        vertical-align: top;\n",
       "    }\n",
       "\n",
       "    .dataframe thead th {\n",
       "        text-align: right;\n",
       "    }\n",
       "</style>\n",
       "<table border=\"1\" class=\"dataframe\">\n",
       "  <thead>\n",
       "    <tr style=\"text-align: right;\">\n",
       "      <th></th>\n",
       "      <th>Profile Name</th>\n",
       "      <th>Source</th>\n",
       "      <th>Navigation Level</th>\n",
       "      <th>Referrer Url</th>\n",
       "      <th>Webpage Url</th>\n",
       "      <th>Click Utc Ts</th>\n",
       "    </tr>\n",
       "  </thead>\n",
       "  <tbody>\n",
       "    <tr>\n",
       "      <th>count</th>\n",
       "      <td>1987</td>\n",
       "      <td>1987</td>\n",
       "      <td>1987</td>\n",
       "      <td>1987</td>\n",
       "      <td>1987</td>\n",
       "      <td>1987</td>\n",
       "    </tr>\n",
       "    <tr>\n",
       "      <th>unique</th>\n",
       "      <td>9</td>\n",
       "      <td>3</td>\n",
       "      <td>32</td>\n",
       "      <td>2</td>\n",
       "      <td>5</td>\n",
       "      <td>178</td>\n",
       "    </tr>\n",
       "    <tr>\n",
       "      <th>top</th>\n",
       "      <td>User 5</td>\n",
       "      <td>Source 0</td>\n",
       "      <td>browseTitles</td>\n",
       "      <td>Unknown</td>\n",
       "      <td>Unknown</td>\n",
       "      <td>2023-04-08</td>\n",
       "    </tr>\n",
       "    <tr>\n",
       "      <th>freq</th>\n",
       "      <td>582</td>\n",
       "      <td>1473</td>\n",
       "      <td>414</td>\n",
       "      <td>1985</td>\n",
       "      <td>1982</td>\n",
       "      <td>34</td>\n",
       "    </tr>\n",
       "  </tbody>\n",
       "</table>\n",
       "</div>"
      ],
      "text/plain": [
       "       Profile Name    Source Navigation Level Referrer Url Webpage Url  \\\n",
       "count          1987      1987             1987         1987        1987   \n",
       "unique            9         3               32            2           5   \n",
       "top          User 5  Source 0     browseTitles      Unknown     Unknown   \n",
       "freq            582      1473              414         1985        1982   \n",
       "\n",
       "       Click Utc Ts  \n",
       "count          1987  \n",
       "unique          178  \n",
       "top      2023-04-08  \n",
       "freq             34  "
      ]
     },
     "execution_count": 97,
     "metadata": {},
     "output_type": "execute_result"
    }
   ],
   "source": [
    "clickstream.describe(include='all')"
   ]
  },
  {
   "cell_type": "code",
   "execution_count": 99,
   "id": "61d6d5c6-d911-41d1-bd64-aa2b7309794d",
   "metadata": {},
   "outputs": [
    {
     "name": "stdout",
     "output_type": "stream",
     "text": [
      "9\n",
      "3\n",
      "32\n",
      "2\n",
      "5\n",
      "178\n"
     ]
    }
   ],
   "source": [
    "for col in clickstream.columns:\n",
    "    print(clickstream[col].nunique())"
   ]
  },
  {
   "cell_type": "code",
   "execution_count": 101,
   "id": "911da6b0-3e04-4917-817f-4f716d07a404",
   "metadata": {},
   "outputs": [],
   "source": [
    "clickstream = clickstream.drop_duplicates()"
   ]
  },
  {
   "cell_type": "code",
   "execution_count": 103,
   "id": "78f1748a-bc36-4c17-833d-37e90b8d10ef",
   "metadata": {},
   "outputs": [
    {
     "data": {
      "text/plain": [
       "(1987, 6)"
      ]
     },
     "execution_count": 103,
     "metadata": {},
     "output_type": "execute_result"
    }
   ],
   "source": [
    "clickstream.shape"
   ]
  },
  {
   "cell_type": "code",
   "execution_count": 105,
   "id": "cbfdcd9e-9480-4350-8434-d4c0e49df241",
   "metadata": {},
   "outputs": [
    {
     "data": {
      "text/plain": [
       "array(['Source 0', 'Source 1', 'Source 2'], dtype=object)"
      ]
     },
     "execution_count": 105,
     "metadata": {},
     "output_type": "execute_result"
    }
   ],
   "source": [
    "clickstream['Source'].unique()"
   ]
  },
  {
   "cell_type": "code",
   "execution_count": 107,
   "id": "2e73dc1d-292a-4d21-92c6-9704dc87ec1c",
   "metadata": {},
   "outputs": [],
   "source": [
    "clickstream['Click Utc Ts'] = pd.to_datetime(clickstream['Click Utc Ts'], errors='coerce').dt.date\n",
    "\n",
    "clickstream['Referrer Url']=clickstream['Referrer Url'].fillna('Unknown')\n",
    "clickstream['Webpage Url']=clickstream['Webpage Url'].fillna('Unknown')"
   ]
  },
  {
   "cell_type": "code",
   "execution_count": 109,
   "id": "de6b8784-6b7a-4e14-a706-cd55f4bd3a7b",
   "metadata": {},
   "outputs": [
    {
     "data": {
      "text/html": [
       "<div>\n",
       "<style scoped>\n",
       "    .dataframe tbody tr th:only-of-type {\n",
       "        vertical-align: middle;\n",
       "    }\n",
       "\n",
       "    .dataframe tbody tr th {\n",
       "        vertical-align: top;\n",
       "    }\n",
       "\n",
       "    .dataframe thead th {\n",
       "        text-align: right;\n",
       "    }\n",
       "</style>\n",
       "<table border=\"1\" class=\"dataframe\">\n",
       "  <thead>\n",
       "    <tr style=\"text-align: right;\">\n",
       "      <th></th>\n",
       "      <th>Profile Name</th>\n",
       "      <th>Source</th>\n",
       "      <th>Navigation Level</th>\n",
       "      <th>Referrer Url</th>\n",
       "      <th>Webpage Url</th>\n",
       "      <th>Click Utc Ts</th>\n",
       "    </tr>\n",
       "  </thead>\n",
       "  <tbody>\n",
       "    <tr>\n",
       "      <th>0</th>\n",
       "      <td>User 4</td>\n",
       "      <td>Source 0</td>\n",
       "      <td>signupPrompt</td>\n",
       "      <td>Unknown</td>\n",
       "      <td>Unknown</td>\n",
       "      <td>2022-10-08</td>\n",
       "    </tr>\n",
       "    <tr>\n",
       "      <th>1</th>\n",
       "      <td>User 4</td>\n",
       "      <td>Source 0</td>\n",
       "      <td>browseTitles</td>\n",
       "      <td>Unknown</td>\n",
       "      <td>Unknown</td>\n",
       "      <td>2022-10-08</td>\n",
       "    </tr>\n",
       "    <tr>\n",
       "      <th>2</th>\n",
       "      <td>User 4</td>\n",
       "      <td>Source 1</td>\n",
       "      <td>movieDetails</td>\n",
       "      <td>Unknown</td>\n",
       "      <td>Unknown</td>\n",
       "      <td>2022-09-30</td>\n",
       "    </tr>\n",
       "    <tr>\n",
       "      <th>3</th>\n",
       "      <td>User 4</td>\n",
       "      <td>Source 1</td>\n",
       "      <td>browseTitles</td>\n",
       "      <td>Unknown</td>\n",
       "      <td>Unknown</td>\n",
       "      <td>2022-09-30</td>\n",
       "    </tr>\n",
       "    <tr>\n",
       "      <th>4</th>\n",
       "      <td>User 4</td>\n",
       "      <td>Source 1</td>\n",
       "      <td>episodesSelector</td>\n",
       "      <td>Unknown</td>\n",
       "      <td>Unknown</td>\n",
       "      <td>2022-09-30</td>\n",
       "    </tr>\n",
       "    <tr>\n",
       "      <th>...</th>\n",
       "      <td>...</td>\n",
       "      <td>...</td>\n",
       "      <td>...</td>\n",
       "      <td>...</td>\n",
       "      <td>...</td>\n",
       "      <td>...</td>\n",
       "    </tr>\n",
       "    <tr>\n",
       "      <th>1982</th>\n",
       "      <td>User 8</td>\n",
       "      <td>Source 0</td>\n",
       "      <td>playback</td>\n",
       "      <td>Unknown</td>\n",
       "      <td>Unknown</td>\n",
       "      <td>2023-02-20</td>\n",
       "    </tr>\n",
       "    <tr>\n",
       "      <th>1983</th>\n",
       "      <td>User 8</td>\n",
       "      <td>Source 0</td>\n",
       "      <td>profilesGate</td>\n",
       "      <td>Unknown</td>\n",
       "      <td>Unknown</td>\n",
       "      <td>2023-02-20</td>\n",
       "    </tr>\n",
       "    <tr>\n",
       "      <th>1984</th>\n",
       "      <td>User 8</td>\n",
       "      <td>Source 0</td>\n",
       "      <td>comedyFeedTab</td>\n",
       "      <td>Unknown</td>\n",
       "      <td>Unknown</td>\n",
       "      <td>2023-02-20</td>\n",
       "    </tr>\n",
       "    <tr>\n",
       "      <th>1985</th>\n",
       "      <td>User 8</td>\n",
       "      <td>Source 0</td>\n",
       "      <td>search</td>\n",
       "      <td>Unknown</td>\n",
       "      <td>Unknown</td>\n",
       "      <td>2023-02-20</td>\n",
       "    </tr>\n",
       "    <tr>\n",
       "      <th>1986</th>\n",
       "      <td>User 8</td>\n",
       "      <td>Source 0</td>\n",
       "      <td>movieDetails</td>\n",
       "      <td>Unknown</td>\n",
       "      <td>Unknown</td>\n",
       "      <td>2023-02-20</td>\n",
       "    </tr>\n",
       "  </tbody>\n",
       "</table>\n",
       "<p>1987 rows × 6 columns</p>\n",
       "</div>"
      ],
      "text/plain": [
       "     Profile Name    Source  Navigation Level Referrer Url Webpage Url  \\\n",
       "0          User 4  Source 0      signupPrompt      Unknown     Unknown   \n",
       "1          User 4  Source 0      browseTitles      Unknown     Unknown   \n",
       "2          User 4  Source 1      movieDetails      Unknown     Unknown   \n",
       "3          User 4  Source 1      browseTitles      Unknown     Unknown   \n",
       "4          User 4  Source 1  episodesSelector      Unknown     Unknown   \n",
       "...           ...       ...               ...          ...         ...   \n",
       "1982       User 8  Source 0          playback      Unknown     Unknown   \n",
       "1983       User 8  Source 0      profilesGate      Unknown     Unknown   \n",
       "1984       User 8  Source 0     comedyFeedTab      Unknown     Unknown   \n",
       "1985       User 8  Source 0            search      Unknown     Unknown   \n",
       "1986       User 8  Source 0      movieDetails      Unknown     Unknown   \n",
       "\n",
       "     Click Utc Ts  \n",
       "0      2022-10-08  \n",
       "1      2022-10-08  \n",
       "2      2022-09-30  \n",
       "3      2022-09-30  \n",
       "4      2022-09-30  \n",
       "...           ...  \n",
       "1982   2023-02-20  \n",
       "1983   2023-02-20  \n",
       "1984   2023-02-20  \n",
       "1985   2023-02-20  \n",
       "1986   2023-02-20  \n",
       "\n",
       "[1987 rows x 6 columns]"
      ]
     },
     "execution_count": 109,
     "metadata": {},
     "output_type": "execute_result"
    }
   ],
   "source": [
    "clickstream"
   ]
  },
  {
   "cell_type": "code",
   "execution_count": 111,
   "id": "412cb228-42b4-460d-a26b-b3738d732307",
   "metadata": {},
   "outputs": [
    {
     "data": {
      "text/html": [
       "<div>\n",
       "<style scoped>\n",
       "    .dataframe tbody tr th:only-of-type {\n",
       "        vertical-align: middle;\n",
       "    }\n",
       "\n",
       "    .dataframe tbody tr th {\n",
       "        vertical-align: top;\n",
       "    }\n",
       "\n",
       "    .dataframe thead th {\n",
       "        text-align: right;\n",
       "    }\n",
       "</style>\n",
       "<table border=\"1\" class=\"dataframe\">\n",
       "  <thead>\n",
       "    <tr style=\"text-align: right;\">\n",
       "      <th></th>\n",
       "      <th>Profile Name</th>\n",
       "      <th>Source</th>\n",
       "      <th>Navigation Level</th>\n",
       "      <th>Referrer Url</th>\n",
       "      <th>Webpage Url</th>\n",
       "      <th>Click Utc Ts</th>\n",
       "    </tr>\n",
       "  </thead>\n",
       "  <tbody>\n",
       "    <tr>\n",
       "      <th>0</th>\n",
       "      <td>User 4</td>\n",
       "      <td>Source 0</td>\n",
       "      <td>signupPrompt</td>\n",
       "      <td>Unknown</td>\n",
       "      <td>Unknown</td>\n",
       "      <td>2022-10-08</td>\n",
       "    </tr>\n",
       "    <tr>\n",
       "      <th>1</th>\n",
       "      <td>User 4</td>\n",
       "      <td>Source 0</td>\n",
       "      <td>browseTitles</td>\n",
       "      <td>Unknown</td>\n",
       "      <td>Unknown</td>\n",
       "      <td>2022-10-08</td>\n",
       "    </tr>\n",
       "    <tr>\n",
       "      <th>2</th>\n",
       "      <td>User 4</td>\n",
       "      <td>Source 1</td>\n",
       "      <td>movieDetails</td>\n",
       "      <td>Unknown</td>\n",
       "      <td>Unknown</td>\n",
       "      <td>2022-09-30</td>\n",
       "    </tr>\n",
       "    <tr>\n",
       "      <th>3</th>\n",
       "      <td>User 4</td>\n",
       "      <td>Source 1</td>\n",
       "      <td>browseTitles</td>\n",
       "      <td>Unknown</td>\n",
       "      <td>Unknown</td>\n",
       "      <td>2022-09-30</td>\n",
       "    </tr>\n",
       "    <tr>\n",
       "      <th>4</th>\n",
       "      <td>User 4</td>\n",
       "      <td>Source 1</td>\n",
       "      <td>episodesSelector</td>\n",
       "      <td>Unknown</td>\n",
       "      <td>Unknown</td>\n",
       "      <td>2022-09-30</td>\n",
       "    </tr>\n",
       "    <tr>\n",
       "      <th>...</th>\n",
       "      <td>...</td>\n",
       "      <td>...</td>\n",
       "      <td>...</td>\n",
       "      <td>...</td>\n",
       "      <td>...</td>\n",
       "      <td>...</td>\n",
       "    </tr>\n",
       "    <tr>\n",
       "      <th>1982</th>\n",
       "      <td>User 8</td>\n",
       "      <td>Source 0</td>\n",
       "      <td>playback</td>\n",
       "      <td>Unknown</td>\n",
       "      <td>Unknown</td>\n",
       "      <td>2023-02-20</td>\n",
       "    </tr>\n",
       "    <tr>\n",
       "      <th>1983</th>\n",
       "      <td>User 8</td>\n",
       "      <td>Source 0</td>\n",
       "      <td>profilesGate</td>\n",
       "      <td>Unknown</td>\n",
       "      <td>Unknown</td>\n",
       "      <td>2023-02-20</td>\n",
       "    </tr>\n",
       "    <tr>\n",
       "      <th>1984</th>\n",
       "      <td>User 8</td>\n",
       "      <td>Source 0</td>\n",
       "      <td>comedyFeedTab</td>\n",
       "      <td>Unknown</td>\n",
       "      <td>Unknown</td>\n",
       "      <td>2023-02-20</td>\n",
       "    </tr>\n",
       "    <tr>\n",
       "      <th>1985</th>\n",
       "      <td>User 8</td>\n",
       "      <td>Source 0</td>\n",
       "      <td>search</td>\n",
       "      <td>Unknown</td>\n",
       "      <td>Unknown</td>\n",
       "      <td>2023-02-20</td>\n",
       "    </tr>\n",
       "    <tr>\n",
       "      <th>1986</th>\n",
       "      <td>User 8</td>\n",
       "      <td>Source 0</td>\n",
       "      <td>movieDetails</td>\n",
       "      <td>Unknown</td>\n",
       "      <td>Unknown</td>\n",
       "      <td>2023-02-20</td>\n",
       "    </tr>\n",
       "  </tbody>\n",
       "</table>\n",
       "<p>1987 rows × 6 columns</p>\n",
       "</div>"
      ],
      "text/plain": [
       "     Profile Name    Source  Navigation Level Referrer Url Webpage Url  \\\n",
       "0          User 4  Source 0      signupPrompt      Unknown     Unknown   \n",
       "1          User 4  Source 0      browseTitles      Unknown     Unknown   \n",
       "2          User 4  Source 1      movieDetails      Unknown     Unknown   \n",
       "3          User 4  Source 1      browseTitles      Unknown     Unknown   \n",
       "4          User 4  Source 1  episodesSelector      Unknown     Unknown   \n",
       "...           ...       ...               ...          ...         ...   \n",
       "1982       User 8  Source 0          playback      Unknown     Unknown   \n",
       "1983       User 8  Source 0      profilesGate      Unknown     Unknown   \n",
       "1984       User 8  Source 0     comedyFeedTab      Unknown     Unknown   \n",
       "1985       User 8  Source 0            search      Unknown     Unknown   \n",
       "1986       User 8  Source 0      movieDetails      Unknown     Unknown   \n",
       "\n",
       "     Click Utc Ts  \n",
       "0      2022-10-08  \n",
       "1      2022-10-08  \n",
       "2      2022-09-30  \n",
       "3      2022-09-30  \n",
       "4      2022-09-30  \n",
       "...           ...  \n",
       "1982   2023-02-20  \n",
       "1983   2023-02-20  \n",
       "1984   2023-02-20  \n",
       "1985   2023-02-20  \n",
       "1986   2023-02-20  \n",
       "\n",
       "[1987 rows x 6 columns]"
      ]
     },
     "execution_count": 111,
     "metadata": {},
     "output_type": "execute_result"
    }
   ],
   "source": [
    "clickstream=clickstream.drop_duplicates()\n",
    "clickstream"
   ]
  },
  {
   "cell_type": "code",
   "execution_count": 113,
   "id": "0d41f979-65ff-4db9-8dac-d0bebb4a1894",
   "metadata": {},
   "outputs": [],
   "source": [
    "clickstream.to_csv('All_Clickstream.csv', index=False)"
   ]
  },
  {
   "cell_type": "markdown",
   "id": "b7ec6d87-08e9-4c08-8751-218127789042",
   "metadata": {},
   "source": [
    "VIEWING ACTIVITY"
   ]
  },
  {
   "cell_type": "code",
   "execution_count": 116,
   "id": "d9c6ab19-e81f-496d-81de-979e08b249fd",
   "metadata": {},
   "outputs": [
    {
     "data": {
      "text/plain": [
       "(9992, 9)"
      ]
     },
     "execution_count": 116,
     "metadata": {},
     "output_type": "execute_result"
    }
   ],
   "source": [
    "viewing_activity.shape"
   ]
  },
  {
   "cell_type": "code",
   "execution_count": 118,
   "id": "7b639474-9ad9-458e-b992-8cbc45584aed",
   "metadata": {},
   "outputs": [
    {
     "data": {
      "text/plain": [
       "Index(['Profile Name', 'Start Time', 'Duration', 'Title', 'Device Type',\n",
       "       'Bookmark', 'Latest Bookmark', 'Country', 'End Time'],\n",
       "      dtype='object')"
      ]
     },
     "execution_count": 118,
     "metadata": {},
     "output_type": "execute_result"
    }
   ],
   "source": [
    "viewing_activity.columns"
   ]
  },
  {
   "cell_type": "code",
   "execution_count": 120,
   "id": "66c5d83b-6810-4a4e-b1fb-ae91a659e53a",
   "metadata": {},
   "outputs": [
    {
     "name": "stdout",
     "output_type": "stream",
     "text": [
      "<class 'pandas.core.frame.DataFrame'>\n",
      "RangeIndex: 9992 entries, 0 to 9991\n",
      "Data columns (total 9 columns):\n",
      " #   Column           Non-Null Count  Dtype \n",
      "---  ------           --------------  ----- \n",
      " 0   Profile Name     9992 non-null   object\n",
      " 1   Start Time       9992 non-null   object\n",
      " 2   Duration         9992 non-null   object\n",
      " 3   Title            9992 non-null   object\n",
      " 4   Device Type      9992 non-null   object\n",
      " 5   Bookmark         9992 non-null   object\n",
      " 6   Latest Bookmark  9992 non-null   object\n",
      " 7   Country          9992 non-null   object\n",
      " 8   End Time         9992 non-null   object\n",
      "dtypes: object(9)\n",
      "memory usage: 702.7+ KB\n"
     ]
    }
   ],
   "source": [
    "viewing_activity.info()"
   ]
  },
  {
   "cell_type": "code",
   "execution_count": 122,
   "id": "2057ee76-4faa-4410-b207-4d2bdba1d5a7",
   "metadata": {},
   "outputs": [
    {
     "data": {
      "text/html": [
       "<div>\n",
       "<style scoped>\n",
       "    .dataframe tbody tr th:only-of-type {\n",
       "        vertical-align: middle;\n",
       "    }\n",
       "\n",
       "    .dataframe tbody tr th {\n",
       "        vertical-align: top;\n",
       "    }\n",
       "\n",
       "    .dataframe thead th {\n",
       "        text-align: right;\n",
       "    }\n",
       "</style>\n",
       "<table border=\"1\" class=\"dataframe\">\n",
       "  <thead>\n",
       "    <tr style=\"text-align: right;\">\n",
       "      <th></th>\n",
       "      <th>Profile Name</th>\n",
       "      <th>Start Time</th>\n",
       "      <th>Duration</th>\n",
       "      <th>Title</th>\n",
       "      <th>Device Type</th>\n",
       "      <th>Bookmark</th>\n",
       "      <th>Latest Bookmark</th>\n",
       "      <th>Country</th>\n",
       "      <th>End Time</th>\n",
       "    </tr>\n",
       "  </thead>\n",
       "  <tbody>\n",
       "    <tr>\n",
       "      <th>count</th>\n",
       "      <td>9992</td>\n",
       "      <td>9992</td>\n",
       "      <td>9992</td>\n",
       "      <td>9992</td>\n",
       "      <td>9992</td>\n",
       "      <td>9992</td>\n",
       "      <td>9992</td>\n",
       "      <td>9992</td>\n",
       "      <td>9992</td>\n",
       "    </tr>\n",
       "    <tr>\n",
       "      <th>unique</th>\n",
       "      <td>9</td>\n",
       "      <td>9988</td>\n",
       "      <td>2741</td>\n",
       "      <td>4327</td>\n",
       "      <td>9</td>\n",
       "      <td>3532</td>\n",
       "      <td>1791</td>\n",
       "      <td>10</td>\n",
       "      <td>9991</td>\n",
       "    </tr>\n",
       "    <tr>\n",
       "      <th>top</th>\n",
       "      <td>User 4</td>\n",
       "      <td>2022-08-03 19:31:35</td>\n",
       "      <td>0 days 00:00:04</td>\n",
       "      <td>Minnal Murali</td>\n",
       "      <td>Device Type 0</td>\n",
       "      <td>00:00:04</td>\n",
       "      <td>Not latest view</td>\n",
       "      <td>IN (INDIA)</td>\n",
       "      <td>2022-11-25 16:55:26</td>\n",
       "    </tr>\n",
       "    <tr>\n",
       "      <th>freq</th>\n",
       "      <td>5239</td>\n",
       "      <td>2</td>\n",
       "      <td>320</td>\n",
       "      <td>40</td>\n",
       "      <td>4966</td>\n",
       "      <td>256</td>\n",
       "      <td>4828</td>\n",
       "      <td>5796</td>\n",
       "      <td>2</td>\n",
       "    </tr>\n",
       "  </tbody>\n",
       "</table>\n",
       "</div>"
      ],
      "text/plain": [
       "       Profile Name           Start Time         Duration          Title  \\\n",
       "count          9992                 9992             9992           9992   \n",
       "unique            9                 9988             2741           4327   \n",
       "top          User 4  2022-08-03 19:31:35  0 days 00:00:04  Minnal Murali   \n",
       "freq           5239                    2              320             40   \n",
       "\n",
       "          Device Type  Bookmark  Latest Bookmark     Country  \\\n",
       "count            9992      9992             9992        9992   \n",
       "unique              9      3532             1791          10   \n",
       "top     Device Type 0  00:00:04  Not latest view  IN (INDIA)   \n",
       "freq             4966       256             4828        5796   \n",
       "\n",
       "                   End Time  \n",
       "count                  9992  \n",
       "unique                 9991  \n",
       "top     2022-11-25 16:55:26  \n",
       "freq                      2  "
      ]
     },
     "execution_count": 122,
     "metadata": {},
     "output_type": "execute_result"
    }
   ],
   "source": [
    "viewing_activity.describe(include='all')"
   ]
  },
  {
   "cell_type": "code",
   "execution_count": 124,
   "id": "01e95f96-f1e3-4c4a-8cf7-2f0f331599e8",
   "metadata": {},
   "outputs": [
    {
     "name": "stdout",
     "output_type": "stream",
     "text": [
      "9\n",
      "9988\n",
      "2741\n",
      "4327\n",
      "9\n",
      "3532\n",
      "1791\n",
      "10\n",
      "9991\n"
     ]
    }
   ],
   "source": [
    "for col in viewing_activity.columns:\n",
    "    print(viewing_activity[col].nunique())"
   ]
  },
  {
   "cell_type": "code",
   "execution_count": 126,
   "id": "bbd5f537-0697-4b3b-963f-e75919fcefb2",
   "metadata": {},
   "outputs": [],
   "source": [
    "viewing_activity=viewing_activity.drop_duplicates()"
   ]
  },
  {
   "cell_type": "code",
   "execution_count": 128,
   "id": "6af803d2-8c43-44d9-ad5a-faa71e5dbf7f",
   "metadata": {},
   "outputs": [
    {
     "data": {
      "text/html": [
       "<div>\n",
       "<style scoped>\n",
       "    .dataframe tbody tr th:only-of-type {\n",
       "        vertical-align: middle;\n",
       "    }\n",
       "\n",
       "    .dataframe tbody tr th {\n",
       "        vertical-align: top;\n",
       "    }\n",
       "\n",
       "    .dataframe thead th {\n",
       "        text-align: right;\n",
       "    }\n",
       "</style>\n",
       "<table border=\"1\" class=\"dataframe\">\n",
       "  <thead>\n",
       "    <tr style=\"text-align: right;\">\n",
       "      <th></th>\n",
       "      <th>Profile Name</th>\n",
       "      <th>Start Time</th>\n",
       "      <th>Duration</th>\n",
       "      <th>Title</th>\n",
       "      <th>Device Type</th>\n",
       "      <th>Bookmark</th>\n",
       "      <th>Latest Bookmark</th>\n",
       "      <th>Country</th>\n",
       "      <th>End Time</th>\n",
       "    </tr>\n",
       "  </thead>\n",
       "  <tbody>\n",
       "    <tr>\n",
       "      <th>0</th>\n",
       "      <td>User 1</td>\n",
       "      <td>2022-04-28 16:08:56</td>\n",
       "      <td>0 days 00:00:06</td>\n",
       "      <td>Chernobyl 1986</td>\n",
       "      <td>Device Type 1</td>\n",
       "      <td>01:02:16</td>\n",
       "      <td>01:02:16</td>\n",
       "      <td>IN (INDIA)</td>\n",
       "      <td>2022-04-28 16:09:02</td>\n",
       "    </tr>\n",
       "    <tr>\n",
       "      <th>1</th>\n",
       "      <td>User 1</td>\n",
       "      <td>2022-04-28 15:54:30</td>\n",
       "      <td>0 days 00:09:39</td>\n",
       "      <td>13 Hours: The Secret Soldiers of Benghazi</td>\n",
       "      <td>Device Type 1</td>\n",
       "      <td>02:13:19</td>\n",
       "      <td>02:13:19</td>\n",
       "      <td>IN (INDIA)</td>\n",
       "      <td>2022-04-28 16:04:09</td>\n",
       "    </tr>\n",
       "    <tr>\n",
       "      <th>2</th>\n",
       "      <td>User 1</td>\n",
       "      <td>2022-04-28 15:53:20</td>\n",
       "      <td>0 days 00:00:06</td>\n",
       "      <td>Saving Private Ryan</td>\n",
       "      <td>Device Type 1</td>\n",
       "      <td>01:16:17</td>\n",
       "      <td>01:16:17</td>\n",
       "      <td>IN (INDIA)</td>\n",
       "      <td>2022-04-28 15:53:26</td>\n",
       "    </tr>\n",
       "    <tr>\n",
       "      <th>3</th>\n",
       "      <td>User 1</td>\n",
       "      <td>2022-04-28 15:52:18</td>\n",
       "      <td>0 days 00:00:15</td>\n",
       "      <td>Mosul</td>\n",
       "      <td>Device Type 1</td>\n",
       "      <td>01:06:44</td>\n",
       "      <td>01:06:44</td>\n",
       "      <td>IN (INDIA)</td>\n",
       "      <td>2022-04-28 15:52:33</td>\n",
       "    </tr>\n",
       "    <tr>\n",
       "      <th>4</th>\n",
       "      <td>User 1</td>\n",
       "      <td>2022-04-28 15:49:11</td>\n",
       "      <td>0 days 00:01:45</td>\n",
       "      <td>12 Strong</td>\n",
       "      <td>Device Type 1</td>\n",
       "      <td>00:52:28</td>\n",
       "      <td>00:52:28</td>\n",
       "      <td>IN (INDIA)</td>\n",
       "      <td>2022-04-28 15:50:56</td>\n",
       "    </tr>\n",
       "    <tr>\n",
       "      <th>...</th>\n",
       "      <td>...</td>\n",
       "      <td>...</td>\n",
       "      <td>...</td>\n",
       "      <td>...</td>\n",
       "      <td>...</td>\n",
       "      <td>...</td>\n",
       "      <td>...</td>\n",
       "      <td>...</td>\n",
       "      <td>...</td>\n",
       "    </tr>\n",
       "    <tr>\n",
       "      <th>9987</th>\n",
       "      <td>User 5</td>\n",
       "      <td>2023-01-07 18:41:03</td>\n",
       "      <td>0 days 00:00:26</td>\n",
       "      <td>Slumberland - Fast Laughs - Clip 3</td>\n",
       "      <td>Device Type 1</td>\n",
       "      <td>00:00:26</td>\n",
       "      <td>00:00:26</td>\n",
       "      <td>IN (INDIA)</td>\n",
       "      <td>2023-01-07 18:41:29</td>\n",
       "    </tr>\n",
       "    <tr>\n",
       "      <th>9988</th>\n",
       "      <td>User 5</td>\n",
       "      <td>2023-01-07 15:44:54</td>\n",
       "      <td>0 days 00:02:14</td>\n",
       "      <td>Wednesday: Season 1: Wednesday's Child Is Full...</td>\n",
       "      <td>Device Type 5</td>\n",
       "      <td>00:23:25</td>\n",
       "      <td>Not latest view</td>\n",
       "      <td>IN (INDIA)</td>\n",
       "      <td>2023-01-07 15:47:08</td>\n",
       "    </tr>\n",
       "    <tr>\n",
       "      <th>9989</th>\n",
       "      <td>User 5</td>\n",
       "      <td>2023-01-07 15:13:36</td>\n",
       "      <td>0 days 00:21:11</td>\n",
       "      <td>Wednesday: Season 1: Wednesday's Child Is Full...</td>\n",
       "      <td>Device Type 5</td>\n",
       "      <td>00:21:11</td>\n",
       "      <td>Not latest view</td>\n",
       "      <td>IN (INDIA)</td>\n",
       "      <td>2023-01-07 15:34:47</td>\n",
       "    </tr>\n",
       "    <tr>\n",
       "      <th>9990</th>\n",
       "      <td>User 5</td>\n",
       "      <td>2023-01-07 15:13:26</td>\n",
       "      <td>0 days 00:00:06</td>\n",
       "      <td>Season 1 Genre Specific Moment Clip: Wednesday</td>\n",
       "      <td>Device Type 5</td>\n",
       "      <td>00:00:06</td>\n",
       "      <td>Not latest view</td>\n",
       "      <td>IN (INDIA)</td>\n",
       "      <td>2023-01-07 15:13:32</td>\n",
       "    </tr>\n",
       "    <tr>\n",
       "      <th>9991</th>\n",
       "      <td>User 5</td>\n",
       "      <td>2023-01-07 15:13:19</td>\n",
       "      <td>0 days 00:00:04</td>\n",
       "      <td>Naruto Shippuden: Season 1_hook_03_16x9</td>\n",
       "      <td>Device Type 5</td>\n",
       "      <td>00:00:04</td>\n",
       "      <td>Not latest view</td>\n",
       "      <td>IN (INDIA)</td>\n",
       "      <td>2023-01-07 15:13:23</td>\n",
       "    </tr>\n",
       "  </tbody>\n",
       "</table>\n",
       "<p>9992 rows × 9 columns</p>\n",
       "</div>"
      ],
      "text/plain": [
       "     Profile Name           Start Time         Duration  \\\n",
       "0          User 1  2022-04-28 16:08:56  0 days 00:00:06   \n",
       "1          User 1  2022-04-28 15:54:30  0 days 00:09:39   \n",
       "2          User 1  2022-04-28 15:53:20  0 days 00:00:06   \n",
       "3          User 1  2022-04-28 15:52:18  0 days 00:00:15   \n",
       "4          User 1  2022-04-28 15:49:11  0 days 00:01:45   \n",
       "...           ...                  ...              ...   \n",
       "9987       User 5  2023-01-07 18:41:03  0 days 00:00:26   \n",
       "9988       User 5  2023-01-07 15:44:54  0 days 00:02:14   \n",
       "9989       User 5  2023-01-07 15:13:36  0 days 00:21:11   \n",
       "9990       User 5  2023-01-07 15:13:26  0 days 00:00:06   \n",
       "9991       User 5  2023-01-07 15:13:19  0 days 00:00:04   \n",
       "\n",
       "                                                  Title    Device Type  \\\n",
       "0                                        Chernobyl 1986  Device Type 1   \n",
       "1             13 Hours: The Secret Soldiers of Benghazi  Device Type 1   \n",
       "2                                   Saving Private Ryan  Device Type 1   \n",
       "3                                                 Mosul  Device Type 1   \n",
       "4                                             12 Strong  Device Type 1   \n",
       "...                                                 ...            ...   \n",
       "9987                 Slumberland - Fast Laughs - Clip 3  Device Type 1   \n",
       "9988  Wednesday: Season 1: Wednesday's Child Is Full...  Device Type 5   \n",
       "9989  Wednesday: Season 1: Wednesday's Child Is Full...  Device Type 5   \n",
       "9990     Season 1 Genre Specific Moment Clip: Wednesday  Device Type 5   \n",
       "9991            Naruto Shippuden: Season 1_hook_03_16x9  Device Type 5   \n",
       "\n",
       "      Bookmark  Latest Bookmark     Country             End Time  \n",
       "0     01:02:16         01:02:16  IN (INDIA)  2022-04-28 16:09:02  \n",
       "1     02:13:19         02:13:19  IN (INDIA)  2022-04-28 16:04:09  \n",
       "2     01:16:17         01:16:17  IN (INDIA)  2022-04-28 15:53:26  \n",
       "3     01:06:44         01:06:44  IN (INDIA)  2022-04-28 15:52:33  \n",
       "4     00:52:28         00:52:28  IN (INDIA)  2022-04-28 15:50:56  \n",
       "...        ...              ...         ...                  ...  \n",
       "9987  00:00:26         00:00:26  IN (INDIA)  2023-01-07 18:41:29  \n",
       "9988  00:23:25  Not latest view  IN (INDIA)  2023-01-07 15:47:08  \n",
       "9989  00:21:11  Not latest view  IN (INDIA)  2023-01-07 15:34:47  \n",
       "9990  00:00:06  Not latest view  IN (INDIA)  2023-01-07 15:13:32  \n",
       "9991  00:00:04  Not latest view  IN (INDIA)  2023-01-07 15:13:23  \n",
       "\n",
       "[9992 rows x 9 columns]"
      ]
     },
     "execution_count": 128,
     "metadata": {},
     "output_type": "execute_result"
    }
   ],
   "source": [
    "viewing_activity"
   ]
  },
  {
   "cell_type": "code",
   "execution_count": 130,
   "id": "e7040d75-4901-4021-8f9a-ac198dfe2ca0",
   "metadata": {},
   "outputs": [
    {
     "ename": "KeyError",
     "evalue": "'Attributes'",
     "output_type": "error",
     "traceback": [
      "\u001b[1;31m---------------------------------------------------------------------------\u001b[0m",
      "\u001b[1;31mKeyError\u001b[0m                                  Traceback (most recent call last)",
      "File \u001b[1;32m~\\anaconda3\\Lib\\site-packages\\pandas\\core\\indexes\\base.py:3805\u001b[0m, in \u001b[0;36mIndex.get_loc\u001b[1;34m(self, key)\u001b[0m\n\u001b[0;32m   3804\u001b[0m \u001b[38;5;28;01mtry\u001b[39;00m:\n\u001b[1;32m-> 3805\u001b[0m     \u001b[38;5;28;01mreturn\u001b[39;00m \u001b[38;5;28mself\u001b[39m\u001b[38;5;241m.\u001b[39m_engine\u001b[38;5;241m.\u001b[39mget_loc(casted_key)\n\u001b[0;32m   3806\u001b[0m \u001b[38;5;28;01mexcept\u001b[39;00m \u001b[38;5;167;01mKeyError\u001b[39;00m \u001b[38;5;28;01mas\u001b[39;00m err:\n",
      "File \u001b[1;32mindex.pyx:167\u001b[0m, in \u001b[0;36mpandas._libs.index.IndexEngine.get_loc\u001b[1;34m()\u001b[0m\n",
      "File \u001b[1;32mindex.pyx:196\u001b[0m, in \u001b[0;36mpandas._libs.index.IndexEngine.get_loc\u001b[1;34m()\u001b[0m\n",
      "File \u001b[1;32mpandas\\\\_libs\\\\hashtable_class_helper.pxi:7081\u001b[0m, in \u001b[0;36mpandas._libs.hashtable.PyObjectHashTable.get_item\u001b[1;34m()\u001b[0m\n",
      "File \u001b[1;32mpandas\\\\_libs\\\\hashtable_class_helper.pxi:7089\u001b[0m, in \u001b[0;36mpandas._libs.hashtable.PyObjectHashTable.get_item\u001b[1;34m()\u001b[0m\n",
      "\u001b[1;31mKeyError\u001b[0m: 'Attributes'",
      "\nThe above exception was the direct cause of the following exception:\n",
      "\u001b[1;31mKeyError\u001b[0m                                  Traceback (most recent call last)",
      "Cell \u001b[1;32mIn[130], line 1\u001b[0m\n\u001b[1;32m----> 1\u001b[0m viewing_activity[\u001b[38;5;124m'\u001b[39m\u001b[38;5;124mAttributes\u001b[39m\u001b[38;5;124m'\u001b[39m]\u001b[38;5;241m.\u001b[39munique()\n",
      "File \u001b[1;32m~\\anaconda3\\Lib\\site-packages\\pandas\\core\\frame.py:4102\u001b[0m, in \u001b[0;36mDataFrame.__getitem__\u001b[1;34m(self, key)\u001b[0m\n\u001b[0;32m   4100\u001b[0m \u001b[38;5;28;01mif\u001b[39;00m \u001b[38;5;28mself\u001b[39m\u001b[38;5;241m.\u001b[39mcolumns\u001b[38;5;241m.\u001b[39mnlevels \u001b[38;5;241m>\u001b[39m \u001b[38;5;241m1\u001b[39m:\n\u001b[0;32m   4101\u001b[0m     \u001b[38;5;28;01mreturn\u001b[39;00m \u001b[38;5;28mself\u001b[39m\u001b[38;5;241m.\u001b[39m_getitem_multilevel(key)\n\u001b[1;32m-> 4102\u001b[0m indexer \u001b[38;5;241m=\u001b[39m \u001b[38;5;28mself\u001b[39m\u001b[38;5;241m.\u001b[39mcolumns\u001b[38;5;241m.\u001b[39mget_loc(key)\n\u001b[0;32m   4103\u001b[0m \u001b[38;5;28;01mif\u001b[39;00m is_integer(indexer):\n\u001b[0;32m   4104\u001b[0m     indexer \u001b[38;5;241m=\u001b[39m [indexer]\n",
      "File \u001b[1;32m~\\anaconda3\\Lib\\site-packages\\pandas\\core\\indexes\\base.py:3812\u001b[0m, in \u001b[0;36mIndex.get_loc\u001b[1;34m(self, key)\u001b[0m\n\u001b[0;32m   3807\u001b[0m     \u001b[38;5;28;01mif\u001b[39;00m \u001b[38;5;28misinstance\u001b[39m(casted_key, \u001b[38;5;28mslice\u001b[39m) \u001b[38;5;129;01mor\u001b[39;00m (\n\u001b[0;32m   3808\u001b[0m         \u001b[38;5;28misinstance\u001b[39m(casted_key, abc\u001b[38;5;241m.\u001b[39mIterable)\n\u001b[0;32m   3809\u001b[0m         \u001b[38;5;129;01mand\u001b[39;00m \u001b[38;5;28many\u001b[39m(\u001b[38;5;28misinstance\u001b[39m(x, \u001b[38;5;28mslice\u001b[39m) \u001b[38;5;28;01mfor\u001b[39;00m x \u001b[38;5;129;01min\u001b[39;00m casted_key)\n\u001b[0;32m   3810\u001b[0m     ):\n\u001b[0;32m   3811\u001b[0m         \u001b[38;5;28;01mraise\u001b[39;00m InvalidIndexError(key)\n\u001b[1;32m-> 3812\u001b[0m     \u001b[38;5;28;01mraise\u001b[39;00m \u001b[38;5;167;01mKeyError\u001b[39;00m(key) \u001b[38;5;28;01mfrom\u001b[39;00m \u001b[38;5;21;01merr\u001b[39;00m\n\u001b[0;32m   3813\u001b[0m \u001b[38;5;28;01mexcept\u001b[39;00m \u001b[38;5;167;01mTypeError\u001b[39;00m:\n\u001b[0;32m   3814\u001b[0m     \u001b[38;5;66;03m# If we have a listlike key, _check_indexing_error will raise\u001b[39;00m\n\u001b[0;32m   3815\u001b[0m     \u001b[38;5;66;03m#  InvalidIndexError. Otherwise we fall through and re-raise\u001b[39;00m\n\u001b[0;32m   3816\u001b[0m     \u001b[38;5;66;03m#  the TypeError.\u001b[39;00m\n\u001b[0;32m   3817\u001b[0m     \u001b[38;5;28mself\u001b[39m\u001b[38;5;241m.\u001b[39m_check_indexing_error(key)\n",
      "\u001b[1;31mKeyError\u001b[0m: 'Attributes'"
     ]
    }
   ],
   "source": [
    "viewing_activity['Attributes'].unique()"
   ]
  },
  {
   "cell_type": "code",
   "execution_count": null,
   "id": "65839445-6b96-4959-83a4-041dd308da38",
   "metadata": {},
   "outputs": [],
   "source": [
    "viewing_activity['Supplemental Video Type'].unique()"
   ]
  },
  {
   "cell_type": "code",
   "execution_count": null,
   "id": "a8ff892d-c11e-47e4-9642-7a2cf9bb98bc",
   "metadata": {},
   "outputs": [],
   "source": [
    "df2 = viewing_activity[viewing_activity['Supplemental Video Type'].isnull()]"
   ]
  },
  {
   "cell_type": "code",
   "execution_count": null,
   "id": "4e272d05-f504-4aa5-a7e6-16f8b6254361",
   "metadata": {},
   "outputs": [],
   "source": [
    "df2"
   ]
  },
  {
   "cell_type": "code",
   "execution_count": null,
   "id": "eea7fef3-91d5-441b-8282-3296e9847542",
   "metadata": {},
   "outputs": [],
   "source": [
    "# Chuyển đổi cột Start Time thành datetime\n",
    "viewing_activity['Start Time'] = pd.to_datetime(viewing_activity['Start Time'])\n",
    "\n",
    "# Chuyển đổi cột Duration thành timedelta\n",
    "def parse_duration(duration_str):\n",
    "    \"\"\"Chuyển đổi chuỗi thời gian sang timedelta.\"\"\"\n",
    "    if pd.isna(duration_str):\n",
    "        return pd.Timedelta(0)\n",
    "    hours, minutes, seconds = map(int, duration_str.split(':'))\n",
    "    return pd.Timedelta(hours=hours, minutes=minutes, seconds=seconds)\n",
    "\n",
    "viewing_activity['Duration'] = viewing_activity['Duration'].apply(parse_duration)\n",
    "\n",
    "\n",
    "viewing_activity['Country'] = viewing_activity['Country'].str.upper().str.strip()\n",
    "\n",
    "viewing_activity['End Time'] = viewing_activity['Start Time'] + viewing_activity['Duration']\n",
    "\n",
    "viewing_activity.drop(['Attributes', 'Supplemental Video Type'], axis=1, inplace=True)\n",
    "\n"
   ]
  },
  {
   "cell_type": "code",
   "execution_count": null,
   "id": "0a6174b0-08d8-4b64-a570-d259e61e4780",
   "metadata": {},
   "outputs": [],
   "source": [
    "viewing_activity.to_csv('All_ViewingActivity.csv', index=False)"
   ]
  },
  {
   "cell_type": "markdown",
   "id": "ca1b481c-67e0-4f18-9629-4a7b8d3d624e",
   "metadata": {},
   "source": [
    "FINISHED CLEANING DATA"
   ]
  },
  {
   "cell_type": "code",
   "execution_count": null,
   "id": "39436a25-982f-4b09-8517-60e3f8bd8818",
   "metadata": {},
   "outputs": [],
   "source": []
  }
 ],
 "metadata": {
  "kernelspec": {
   "display_name": "Python 3 (ipykernel)",
   "language": "python",
   "name": "python3"
  },
  "language_info": {
   "codemirror_mode": {
    "name": "ipython",
    "version": 3
   },
   "file_extension": ".py",
   "mimetype": "text/x-python",
   "name": "python",
   "nbconvert_exporter": "python",
   "pygments_lexer": "ipython3",
   "version": "3.12.4"
  }
 },
 "nbformat": 4,
 "nbformat_minor": 5
}
